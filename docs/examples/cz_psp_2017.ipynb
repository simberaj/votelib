{
 "cells": [
  {
   "cell_type": "markdown",
   "metadata": {},
   "source": [
    "# Czech 2017 parliamentary elections\n",
    "This example shows proportional elections in the presence of multiple constituencies, where seats are allocated to constituencies on-line by the number of votes cast in them."
   ]
  },
  {
   "cell_type": "code",
   "execution_count": 1,
   "metadata": {},
   "outputs": [],
   "source": [
    "import sys\n",
    "import os\n",
    "import csv\n",
    "import decimal\n",
    "\n",
    "sys.path.append(os.path.join('..', '..'))\n",
    "import votelib.candidate\n",
    "import votelib.evaluate.core\n",
    "import votelib.evaluate.threshold\n",
    "import votelib.evaluate.proportional"
   ]
  },
  {
   "cell_type": "markdown",
   "metadata": {},
   "source": [
    "## Evaluator construction\n",
    "First, we construct the evaluator.\n",
    "\n",
    "Czechia uses the d'Hondt highest averages proportional system in fourteen regions that form separate constituencies with separate regional lists. There is a national 5% electoral threshold."
   ]
  },
  {
   "cell_type": "code",
   "execution_count": 2,
   "metadata": {},
   "outputs": [],
   "source": [
    "eliminator = votelib.evaluate.threshold.RelativeThreshold(\n",
    "    decimal.Decimal('.05'), accept_equal=True\n",
    ")\n",
    "regional_evaluator = votelib.evaluate.proportional.HighestAverages('d_hondt')"
   ]
  },
  {
   "cell_type": "markdown",
   "metadata": {},
   "source": [
    "The number of seats for each region is determined by the total number of votes cast in the region by the Hare quota from a total of 200 seats. The candidates elected are determined through open lists, but we will not go into that detail here."
   ]
  },
  {
   "cell_type": "code",
   "execution_count": 3,
   "metadata": {},
   "outputs": [],
   "source": [
    "apportioner = votelib.evaluate.proportional.LargestRemainder('hare')\n",
    "combined_evaluator = votelib.evaluate.core.ByConstituency(\n",
    "    regional_evaluator, apportioner, preselector=eliminator\n",
    ")\n",
    "evaluator = votelib.evaluate.core.FixedSeatCount(\n",
    "    votelib.evaluate.core.PostConverted(\n",
    "        combined_evaluator,\n",
    "        votelib.convert.VoteTotals(),\n",
    "    ),\n",
    "    200\n",
    ")"
   ]
  },
  {
   "cell_type": "markdown",
   "metadata": {},
   "source": [
    "## Vote loading\n",
    "Now we load the vote counts, per region."
   ]
  },
  {
   "cell_type": "code",
   "execution_count": 4,
   "metadata": {},
   "outputs": [
    {
     "name": "stdout",
     "output_type": "stream",
     "text": [
      "{'ANO': 88551, 'ODS': 32242, 'Piráti': 29932, 'SPD': 28038, 'KSČM': 19792, 'ČSSD': 18128, 'KDU-ČSL': 16294, 'TOP 09': 14308, 'STAN': 14184, 'Svobodní': 4310, 'Zelení': 3650, 'Rozumní': 2388, 'REAL': 2037, 'SPO': 851, 'SPRRSČ M.Sládka': 619, 'DSSS': 600, 'ŘN - VU': 531, 'SPORTOVCI': 431, 'DV 2016': 380, 'ODA': 322, 'CESTA': 297, 'BPI': 284, 'Referendum o EU': 276, 'RČ': 275, 'PB': 0, 'SPDV': 0, 'OBČANÉ 2011': 0, 'Unie H.A.V.E.L.': 0, 'ČNF': 0, 'ČSNS': 0, 'NáS': 0}\n"
     ]
    }
   ],
   "source": [
    "fpath = os.path.join('..', '..', 'tests', 'real', 'data', 'cz_psp_2017.csv')\n",
    "with open(fpath, encoding='utf8') as infile:\n",
    "    rows = list(csv.reader(infile, delimiter=';'))\n",
    "region_names = rows[0][1:]\n",
    "votes = {region: {} for region in region_names}\n",
    "for row in rows[1:]:\n",
    "    party = row[0]\n",
    "    for regname, n_votes in zip(region_names, row[1:]):\n",
    "        votes[regname][party] = int(n_votes)\n",
    "print(dict(sorted(votes['Královéhradecký kraj'].items(), key=lambda x: x[1], reverse=True)))"
   ]
  },
  {
   "cell_type": "markdown",
   "metadata": {},
   "source": [
    "## Performing the evaluation\n",
    "When the evaluator is set up correctly, obtaining the result is simple."
   ]
  },
  {
   "cell_type": "code",
   "execution_count": 5,
   "metadata": {},
   "outputs": [
    {
     "name": "stdout",
     "output_type": "stream",
     "text": [
      "{'ANO': 78, 'Piráti': 22, 'ODS': 25, 'TOP 09': 7, 'SPD': 22, 'ČSSD': 15, 'STAN': 6, 'KDU-ČSL': 10, 'KSČM': 15}\n"
     ]
    }
   ],
   "source": [
    "print(evaluator.evaluate(votes))"
   ]
  },
  {
   "cell_type": "markdown",
   "metadata": {},
   "source": [
    "We can also check the results for individual regions by taking the outputs of `combined_evaluator`."
   ]
  },
  {
   "cell_type": "code",
   "execution_count": 6,
   "metadata": {},
   "outputs": [
    {
     "name": "stdout",
     "output_type": "stream",
     "text": [
      "{'ANO': 5, 'ODS': 1, 'Piráti': 1, 'SPD': 1, 'KSČM': 1, 'ČSSD': 1, 'KDU-ČSL': 1}\n"
     ]
    }
   ],
   "source": [
    "print(combined_evaluator.evaluate(votes, 200)['Královéhradecký kraj'])"
   ]
  },
  {
   "cell_type": "markdown",
   "metadata": {},
   "source": [
    "## Alternative systems\n",
    "In this section, we examine the results that would be achieved under different alternative voting systems."
   ]
  },
  {
   "cell_type": "markdown",
   "metadata": {},
   "source": [
    "### Sainte-Laguë divisor\n",
    "Using the Sainte-Laguë divisor helps smaller and mid-sized parties that d'Hondt tends to disfavor; however, the small size of some regions will still impact them. We construct the evaluator analogously, just using the different divisor."
   ]
  },
  {
   "cell_type": "code",
   "execution_count": 7,
   "metadata": {},
   "outputs": [
    {
     "name": "stdout",
     "output_type": "stream",
     "text": [
      "{'ANO': 63, 'Piráti': 22, 'ODS': 24, 'TOP 09': 11, 'SPD': 23, 'ČSSD': 16, 'STAN': 14, 'KDU-ČSL': 11, 'KSČM': 16}\n"
     ]
    }
   ],
   "source": [
    "sainte_lague_evaluator = votelib.evaluate.core.PostConverted(\n",
    "    votelib.evaluate.core.ByConstituency(\n",
    "        votelib.evaluate.proportional.HighestAverages('sainte_lague'),\n",
    "        apportioner,\n",
    "        preselector=eliminator\n",
    "    ),\n",
    "    votelib.convert.VoteTotals(),\n",
    ")\n",
    "print(sainte_lague_evaluator.evaluate(votes, 200))"
   ]
  },
  {
   "cell_type": "markdown",
   "metadata": {},
   "source": [
    "### Abolishing the electoral threshold\n",
    "If we abolish the electoral threshold and keep the d'Hondt divisor, nothing happens in this particular case - no party apart from those over 5% is strong enough to get hold of a single seat. (Under Sainte-Laguë, Zelení and Svobodní would each get a single seat.)"
   ]
  },
  {
   "cell_type": "code",
   "execution_count": 8,
   "metadata": {},
   "outputs": [
    {
     "name": "stdout",
     "output_type": "stream",
     "text": [
      "{'ANO': 78, 'Piráti': 22, 'ODS': 25, 'TOP 09': 7, 'SPD': 22, 'ČSSD': 15, 'STAN': 6, 'KDU-ČSL': 10, 'KSČM': 15}\n"
     ]
    }
   ],
   "source": [
    "no_threshold_evaluator = votelib.evaluate.core.PostConverted(\n",
    "    votelib.evaluate.core.ByConstituency(\n",
    "        votelib.evaluate.proportional.HighestAverages('d_hondt'),\n",
    "        apportioner,\n",
    "    ),\n",
    "    votelib.convert.VoteTotals(),\n",
    ")\n",
    "print(no_threshold_evaluator.evaluate(votes, 200))"
   ]
  },
  {
   "cell_type": "markdown",
   "metadata": {},
   "source": [
    "### Biproportional apportionment\n",
    "Applying biproportional apportionment results in a similar result to applying the Sainte-Laguë divisor in this case even with the d'Hondt divisor, since we honor nationwide party vote fractions.\n",
    "\n",
    "Since `BiproportionalEvaluator` removes the need for `ByConstituency`, if we want to keep the electoral threshold, we need to introduce it using a separate `Conditioned` composite ."
   ]
  },
  {
   "cell_type": "code",
   "execution_count": 9,
   "metadata": {},
   "outputs": [
    {
     "name": "stdout",
     "output_type": "stream",
     "text": [
      "{'ANO': 64, 'ODS': 24, 'Piráti': 23, 'SPD': 23, 'KSČM': 17, 'ČSSD': 15, 'KDU-ČSL': 12, 'TOP 09': 11, 'STAN': 11}\n"
     ]
    }
   ],
   "source": [
    "biprop_evaluator = votelib.evaluate.core.PostConverted(\n",
    "    votelib.evaluate.Conditioned(\n",
    "        votelib.evaluate.PreConverted(votelib.convert.VoteTotals(), eliminator),\n",
    "        votelib.evaluate.proportional.BiproportionalEvaluator('d_hondt'),\n",
    "        # depth=1 because the votes are nested by region and we want to subset parties\n",
    "        subsetter=votelib.convert.SubsettedVotes(depth=1),\n",
    "    ),\n",
    "    votelib.convert.VoteTotals(),\n",
    ")\n",
    "print(biprop_evaluator.evaluate(votes, 200))"
   ]
  }
 ],
 "metadata": {
  "kernelspec": {
   "display_name": "Python 3",
   "language": "python",
   "name": "python3"
  },
  "language_info": {
   "codemirror_mode": {
    "name": "ipython",
    "version": 3
   },
   "file_extension": ".py",
   "mimetype": "text/x-python",
   "name": "python",
   "nbconvert_exporter": "python",
   "pygments_lexer": "ipython3",
   "version": "3.7.7"
  }
 },
 "nbformat": 4,
 "nbformat_minor": 4
}
