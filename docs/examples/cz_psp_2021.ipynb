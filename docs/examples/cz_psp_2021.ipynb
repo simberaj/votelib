{
 "cells": [
  {
   "cell_type": "markdown",
   "metadata": {},
   "source": [
    "# Czech 2021 parliamentary elections\n",
    "This example shows a complicated multi-constituency proportional system that was newly introduced the same year."
   ]
  },
  {
   "cell_type": "code",
   "execution_count": 1,
   "metadata": {},
   "outputs": [],
   "source": [
    "%load_ext autoreload\n",
    "%autoreload 2"
   ]
  },
  {
   "cell_type": "code",
   "execution_count": 2,
   "metadata": {},
   "outputs": [],
   "source": [
    "import sys\n",
    "import os\n",
    "import csv\n",
    "import decimal\n",
    "\n",
    "sys.path.append(os.path.join('..', '..'))\n",
    "import votelib.candidate\n",
    "import votelib.evaluate.core\n",
    "import votelib.evaluate.threshold\n",
    "import votelib.evaluate.proportional"
   ]
  },
  {
   "cell_type": "markdown",
   "metadata": {},
   "source": [
    "## Evaluator construction\n",
    "First, we construct the evaluator.\n",
    "\n",
    "The country is divided into fourteen regions that form separate constituencies with separate regional lists. The number of seats distributed within each region is determined from the national total of 200 seats by the Hare quota computed on the national vote count total. There is also a national 5% electoral threshold."
   ]
  },
  {
   "cell_type": "code",
   "execution_count": 3,
   "metadata": {},
   "outputs": [],
   "source": [
    "eliminator = votelib.evaluate.threshold.RelativeThreshold(\n",
    "    decimal.Decimal('.05'), accept_equal=True\n",
    ")\n",
    "apportioner = votelib.evaluate.proportional.LargestRemainder('hare')"
   ]
  },
  {
   "cell_type": "markdown",
   "metadata": {},
   "source": [
    "The evaluator has two stages. In the first stage, seats are allocated within regions using the Imperiali quota. The awarded seat counts are rounded down - there is no largest remainder closeup, and so not all seats are awarded; these are transferred to the second stage."
   ]
  },
  {
   "cell_type": "code",
   "execution_count": 64,
   "metadata": {},
   "outputs": [],
   "source": [
    "regional_evaluator = votelib.evaluate.proportional.QuotaDistributor('imperiali', on_overaward='subtract')\n",
    "\n",
    "stage1_evaluator = votelib.evaluate.core.ByConstituency(regional_evaluator)"
   ]
  },
  {
   "cell_type": "markdown",
   "metadata": {},
   "source": [
    "In the second stage, the votes \"unused\" in the regional stage are summed across regions and the remaining seats allocated according to them using the Droop quota, now using the largest remainder rule to distribute all seats. The second stage seats are redistributed back to the regions according to the regional remainders and the candidates elected are determined through open lists, but we will not go into that detail here."
   ]
  },
  {
   "cell_type": "code",
   "execution_count": 52,
   "metadata": {},
   "outputs": [],
   "source": [
    "stage2_evaluator = votelib.evaluate.core.RemovedApportionment(\n",
    "    votelib.evaluate.core.ByParty(\n",
    "        votelib.evaluate.proportional.LargestRemainder('droop')\n",
    "    )\n",
    ")\n",
    "\n",
    "evaluator = votelib.evaluate.core.FixedSeatCount(\n",
    "    votelib.evaluate.core.PreApportioned(\n",
    "        evaluator=votelib.evaluate.core.Conditioned(\n",
    "            evaluator=votelib.evaluate.core.UnusedVotesDistributor(\n",
    "                [stage1_evaluator, stage2_evaluator],\n",
    "                quota_functions=[regional_evaluator.quota_function],\n",
    "                depth=2\n",
    "            ),\n",
    "            eliminator=eliminator,\n",
    "            depth=2,\n",
    "        ),\n",
    "        apportioner=apportioner,\n",
    "    ),\n",
    "    200\n",
    ")\n",
    "\n",
    "country_evaluator = votelib.evaluate.core.PostConverted(evaluator, votelib.convert.MergedDistributions())"
   ]
  },
  {
   "cell_type": "markdown",
   "metadata": {},
   "source": [
    "## Vote loading\n",
    "Now we load the vote counts, per region."
   ]
  },
  {
   "cell_type": "code",
   "execution_count": 6,
   "metadata": {},
   "outputs": [
    {
     "name": "stdout",
     "output_type": "stream",
     "text": [
      "{'SPOLU': 84166, 'ANO': 79463, 'Piráti+STAN': 44551, 'SPD': 26661, 'ČSSD': 14534, 'PŘÍSAHA': 13930, 'KSČM': 10150, 'TSS': 8663, 'Volný blok': 3941, 'Zelení': 3185, 'OtČe': 1736, 'Švýcar. demokr.': 981, 'APB': 692, 'PRAMENY': 621, 'Monarchiste.cz': 438, 'Nevolte Urza.cz': 430, 'ANS': 273, 'PB': 0, 'Levice': 0, 'SENIOŘI': 0, 'MZH': 0, 'Moravané': 0}\n"
     ]
    }
   ],
   "source": [
    "fpath = os.path.join('..', '..', 'tests', 'real', 'data', 'cz_psp_2021.csv')\n",
    "with open(fpath, encoding='utf8') as infile:\n",
    "    rows = list(csv.reader(infile, delimiter=';'))\n",
    "region_names = rows[0][1:]\n",
    "votes = {region: {} for region in region_names}\n",
    "for row in rows[1:]:\n",
    "    party = row[0]\n",
    "    for regname, n_votes in zip(region_names, row[1:]):\n",
    "        votes[regname][party] = int(n_votes)\n",
    "print(dict(sorted(votes['Královéhradecký kraj'].items(), key=lambda x: x[1], reverse=True)))"
   ]
  },
  {
   "cell_type": "markdown",
   "metadata": {},
   "source": [
    "## Performing the evaluation\n",
    "When the evaluator is set up correctly, obtaining the result is simple."
   ]
  },
  {
   "cell_type": "code",
   "execution_count": 65,
   "metadata": {},
   "outputs": [
    {
     "data": {
      "text/plain": [
       "{'Středočeský kraj': {'SPD': 2, 'SPOLU': 10, 'Piráti+STAN': 6, 'ANO': 8},\n",
       " 'Jihomoravský kraj': {'SPD': 2, 'SPOLU': 9, 'Piráti+STAN': 4, 'ANO': 8},\n",
       " 'Olomoucký kraj': {'SPD': 1, 'SPOLU': 4, 'Piráti+STAN': 2, 'ANO': 5},\n",
       " 'Karlovarský kraj': {'SPD': 1, 'SPOLU': 1, 'Piráti+STAN': 1, 'ANO': 2},\n",
       " 'Moravskoslezský kraj': {'SPD': 3, 'SPOLU': 6, 'Piráti+STAN': 3, 'ANO': 10},\n",
       " 'Kraj Vysočina': {'SPD': 1, 'SPOLU': 4, 'Piráti+STAN': 1, 'ANO': 4},\n",
       " 'Plzeňský kraj': {'SPD': 1, 'SPOLU': 4, 'Piráti+STAN': 2, 'ANO': 4},\n",
       " 'Pardubický kraj': {'SPD': 1, 'SPOLU': 4, 'Piráti+STAN': 2, 'ANO': 3},\n",
       " 'Liberecký kraj': {'SPD': 1, 'SPOLU': 2, 'Piráti+STAN': 2, 'ANO': 3},\n",
       " 'Jihočeský kraj': {'SPD': 1, 'SPOLU': 5, 'Piráti+STAN': 2, 'ANO': 5},\n",
       " 'Ústecký kraj': {'SPD': 2, 'SPOLU': 3, 'Piráti+STAN': 2, 'ANO': 7},\n",
       " 'Zlínský kraj': {'SPD': 2, 'SPOLU': 4, 'Piráti+STAN': 2, 'ANO': 4},\n",
       " 'Královéhradecký kraj': {'SPD': 1, 'SPOLU': 4, 'Piráti+STAN': 2, 'ANO': 4},\n",
       " 'Hlavní město Praha': {'SPD': 1, 'SPOLU': 11, 'Piráti+STAN': 6, 'ANO': 5}}"
      ]
     },
     "execution_count": 65,
     "metadata": {},
     "output_type": "execute_result"
    }
   ],
   "source": [
    "evaluator.evaluate(votes)"
   ]
  },
  {
   "cell_type": "code",
   "execution_count": 66,
   "metadata": {},
   "outputs": [
    {
     "name": "stdout",
     "output_type": "stream",
     "text": [
      "{'SPD': 20, 'SPOLU': 71, 'Piráti+STAN': 37, 'ANO': 72}\n"
     ]
    }
   ],
   "source": [
    "print(country_evaluator.evaluate(votes))"
   ]
  }
 ],
 "metadata": {
  "kernelspec": {
   "display_name": "Python 3 (ipykernel)",
   "language": "python",
   "name": "python3"
  },
  "language_info": {
   "codemirror_mode": {
    "name": "ipython",
    "version": 3
   },
   "file_extension": ".py",
   "mimetype": "text/x-python",
   "name": "python",
   "nbconvert_exporter": "python",
   "pygments_lexer": "ipython3",
   "version": "3.7.7"
  }
 },
 "nbformat": 4,
 "nbformat_minor": 4
}
